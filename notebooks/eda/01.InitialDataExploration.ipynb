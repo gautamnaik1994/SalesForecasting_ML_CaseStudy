{
 "cells": [
  {
   "cell_type": "code",
   "execution_count": 6,
   "metadata": {},
   "outputs": [],
   "source": [
    "import polars as pl\n",
    "import duckdb as db\n",
    "\n",
    "from IPython.core.interactiveshell import InteractiveShell\n",
    "InteractiveShell.ast_node_interactivity = \"all\""
   ]
  },
  {
   "cell_type": "code",
   "execution_count": 2,
   "metadata": {},
   "outputs": [
    {
     "data": {
      "text/html": [
       "<div><style>\n",
       ".dataframe > thead > tr,\n",
       ".dataframe > tbody > tr {\n",
       "  text-align: right;\n",
       "  white-space: pre-wrap;\n",
       "}\n",
       "</style>\n",
       "<small>shape: (188_340, 10)</small><table border=\"1\" class=\"dataframe\"><thead><tr><th>ID</th><th>Store_id</th><th>Store_Type</th><th>Location_Type</th><th>Region_Code</th><th>Date</th><th>Holiday</th><th>Discount</th><th>Order</th><th>Sales</th></tr><tr><td>str</td><td>i64</td><td>str</td><td>str</td><td>str</td><td>str</td><td>i64</td><td>str</td><td>i64</td><td>f64</td></tr></thead><tbody><tr><td>&quot;T1000001&quot;</td><td>1</td><td>&quot;S1&quot;</td><td>&quot;L3&quot;</td><td>&quot;R1&quot;</td><td>&quot;2018-01-01&quot;</td><td>1</td><td>&quot;Yes&quot;</td><td>9</td><td>7011.84</td></tr><tr><td>&quot;T1000002&quot;</td><td>253</td><td>&quot;S4&quot;</td><td>&quot;L2&quot;</td><td>&quot;R1&quot;</td><td>&quot;2018-01-01&quot;</td><td>1</td><td>&quot;Yes&quot;</td><td>60</td><td>51789.12</td></tr><tr><td>&quot;T1000003&quot;</td><td>252</td><td>&quot;S3&quot;</td><td>&quot;L2&quot;</td><td>&quot;R1&quot;</td><td>&quot;2018-01-01&quot;</td><td>1</td><td>&quot;Yes&quot;</td><td>42</td><td>36868.2</td></tr><tr><td>&quot;T1000004&quot;</td><td>251</td><td>&quot;S2&quot;</td><td>&quot;L3&quot;</td><td>&quot;R1&quot;</td><td>&quot;2018-01-01&quot;</td><td>1</td><td>&quot;Yes&quot;</td><td>23</td><td>19715.16</td></tr><tr><td>&quot;T1000005&quot;</td><td>250</td><td>&quot;S2&quot;</td><td>&quot;L3&quot;</td><td>&quot;R4&quot;</td><td>&quot;2018-01-01&quot;</td><td>1</td><td>&quot;Yes&quot;</td><td>62</td><td>45614.52</td></tr><tr><td>&hellip;</td><td>&hellip;</td><td>&hellip;</td><td>&hellip;</td><td>&hellip;</td><td>&hellip;</td><td>&hellip;</td><td>&hellip;</td><td>&hellip;</td><td>&hellip;</td></tr><tr><td>&quot;T1188336&quot;</td><td>149</td><td>&quot;S2&quot;</td><td>&quot;L3&quot;</td><td>&quot;R2&quot;</td><td>&quot;2019-05-31&quot;</td><td>1</td><td>&quot;Yes&quot;</td><td>51</td><td>37272.0</td></tr><tr><td>&quot;T1188337&quot;</td><td>153</td><td>&quot;S4&quot;</td><td>&quot;L2&quot;</td><td>&quot;R1&quot;</td><td>&quot;2019-05-31&quot;</td><td>1</td><td>&quot;No&quot;</td><td>90</td><td>54572.64</td></tr><tr><td>&quot;T1188338&quot;</td><td>154</td><td>&quot;S1&quot;</td><td>&quot;L3&quot;</td><td>&quot;R2&quot;</td><td>&quot;2019-05-31&quot;</td><td>1</td><td>&quot;No&quot;</td><td>56</td><td>31624.56</td></tr><tr><td>&quot;T1188339&quot;</td><td>155</td><td>&quot;S3&quot;</td><td>&quot;L1&quot;</td><td>&quot;R2&quot;</td><td>&quot;2019-05-31&quot;</td><td>1</td><td>&quot;Yes&quot;</td><td>70</td><td>49162.41</td></tr><tr><td>&quot;T1188340&quot;</td><td>152</td><td>&quot;S2&quot;</td><td>&quot;L1&quot;</td><td>&quot;R1&quot;</td><td>&quot;2019-05-31&quot;</td><td>1</td><td>&quot;No&quot;</td><td>47</td><td>37977.0</td></tr></tbody></table></div>"
      ],
      "text/plain": [
       "shape: (188_340, 10)\n",
       "┌──────────┬──────────┬────────────┬───────────────┬───┬─────────┬──────────┬───────┬──────────┐\n",
       "│ ID       ┆ Store_id ┆ Store_Type ┆ Location_Type ┆ … ┆ Holiday ┆ Discount ┆ Order ┆ Sales    │\n",
       "│ ---      ┆ ---      ┆ ---        ┆ ---           ┆   ┆ ---     ┆ ---      ┆ ---   ┆ ---      │\n",
       "│ str      ┆ i64      ┆ str        ┆ str           ┆   ┆ i64     ┆ str      ┆ i64   ┆ f64      │\n",
       "╞══════════╪══════════╪════════════╪═══════════════╪═══╪═════════╪══════════╪═══════╪══════════╡\n",
       "│ T1000001 ┆ 1        ┆ S1         ┆ L3            ┆ … ┆ 1       ┆ Yes      ┆ 9     ┆ 7011.84  │\n",
       "│ T1000002 ┆ 253      ┆ S4         ┆ L2            ┆ … ┆ 1       ┆ Yes      ┆ 60    ┆ 51789.12 │\n",
       "│ T1000003 ┆ 252      ┆ S3         ┆ L2            ┆ … ┆ 1       ┆ Yes      ┆ 42    ┆ 36868.2  │\n",
       "│ T1000004 ┆ 251      ┆ S2         ┆ L3            ┆ … ┆ 1       ┆ Yes      ┆ 23    ┆ 19715.16 │\n",
       "│ T1000005 ┆ 250      ┆ S2         ┆ L3            ┆ … ┆ 1       ┆ Yes      ┆ 62    ┆ 45614.52 │\n",
       "│ …        ┆ …        ┆ …          ┆ …             ┆ … ┆ …       ┆ …        ┆ …     ┆ …        │\n",
       "│ T1188336 ┆ 149      ┆ S2         ┆ L3            ┆ … ┆ 1       ┆ Yes      ┆ 51    ┆ 37272.0  │\n",
       "│ T1188337 ┆ 153      ┆ S4         ┆ L2            ┆ … ┆ 1       ┆ No       ┆ 90    ┆ 54572.64 │\n",
       "│ T1188338 ┆ 154      ┆ S1         ┆ L3            ┆ … ┆ 1       ┆ No       ┆ 56    ┆ 31624.56 │\n",
       "│ T1188339 ┆ 155      ┆ S3         ┆ L1            ┆ … ┆ 1       ┆ Yes      ┆ 70    ┆ 49162.41 │\n",
       "│ T1188340 ┆ 152      ┆ S2         ┆ L1            ┆ … ┆ 1       ┆ No       ┆ 47    ┆ 37977.0  │\n",
       "└──────────┴──────────┴────────────┴───────────────┴───┴─────────┴──────────┴───────┴──────────┘"
      ]
     },
     "execution_count": 2,
     "metadata": {},
     "output_type": "execute_result"
    }
   ],
   "source": [
    "train=pl.read_csv(\"../../data/raw/TRAIN.csv\")\n",
    "train"
   ]
  },
  {
   "cell_type": "code",
   "execution_count": 4,
   "metadata": {},
   "outputs": [
    {
     "data": {
      "text/html": [
       "<div><style>\n",
       ".dataframe > thead > tr,\n",
       ".dataframe > tbody > tr {\n",
       "  text-align: right;\n",
       "  white-space: pre-wrap;\n",
       "}\n",
       "</style>\n",
       "<small>shape: (9, 11)</small><table border=\"1\" class=\"dataframe\"><thead><tr><th>statistic</th><th>ID</th><th>Store_id</th><th>Store_Type</th><th>Location_Type</th><th>Region_Code</th><th>Date</th><th>Holiday</th><th>Discount</th><th>Order</th><th>Sales</th></tr><tr><td>str</td><td>str</td><td>f64</td><td>str</td><td>str</td><td>str</td><td>str</td><td>f64</td><td>str</td><td>f64</td><td>f64</td></tr></thead><tbody><tr><td>&quot;count&quot;</td><td>&quot;188340&quot;</td><td>188340.0</td><td>&quot;188340&quot;</td><td>&quot;188340&quot;</td><td>&quot;188340&quot;</td><td>&quot;188340&quot;</td><td>188340.0</td><td>&quot;188340&quot;</td><td>188340.0</td><td>188340.0</td></tr><tr><td>&quot;null_count&quot;</td><td>&quot;0&quot;</td><td>0.0</td><td>&quot;0&quot;</td><td>&quot;0&quot;</td><td>&quot;0&quot;</td><td>&quot;0&quot;</td><td>0.0</td><td>&quot;0&quot;</td><td>0.0</td><td>0.0</td></tr><tr><td>&quot;mean&quot;</td><td>null</td><td>183.0</td><td>null</td><td>null</td><td>null</td><td>null</td><td>0.131783</td><td>null</td><td>68.205692</td><td>42784.327982</td></tr><tr><td>&quot;std&quot;</td><td>null</td><td>105.366308</td><td>null</td><td>null</td><td>null</td><td>null</td><td>0.338256</td><td>null</td><td>30.467415</td><td>18456.708302</td></tr><tr><td>&quot;min&quot;</td><td>&quot;T1000001&quot;</td><td>1.0</td><td>&quot;S1&quot;</td><td>&quot;L1&quot;</td><td>&quot;R1&quot;</td><td>&quot;2018-01-01&quot;</td><td>0.0</td><td>&quot;No&quot;</td><td>0.0</td><td>0.0</td></tr><tr><td>&quot;25%&quot;</td><td>null</td><td>92.0</td><td>null</td><td>null</td><td>null</td><td>null</td><td>0.0</td><td>null</td><td>48.0</td><td>30426.0</td></tr><tr><td>&quot;50%&quot;</td><td>null</td><td>183.0</td><td>null</td><td>null</td><td>null</td><td>null</td><td>0.0</td><td>null</td><td>63.0</td><td>39678.0</td></tr><tr><td>&quot;75%&quot;</td><td>null</td><td>274.0</td><td>null</td><td>null</td><td>null</td><td>null</td><td>0.0</td><td>null</td><td>82.0</td><td>51909.0</td></tr><tr><td>&quot;max&quot;</td><td>&quot;T1188340&quot;</td><td>365.0</td><td>&quot;S4&quot;</td><td>&quot;L5&quot;</td><td>&quot;R4&quot;</td><td>&quot;2019-05-31&quot;</td><td>1.0</td><td>&quot;Yes&quot;</td><td>371.0</td><td>247215.0</td></tr></tbody></table></div>"
      ],
      "text/plain": [
       "shape: (9, 11)\n",
       "┌────────────┬──────────┬────────────┬───────────┬───┬──────────┬──────────┬───────────┬───────────┐\n",
       "│ statistic  ┆ ID       ┆ Store_id   ┆ Store_Typ ┆ … ┆ Holiday  ┆ Discount ┆ Order     ┆ Sales     │\n",
       "│ ---        ┆ ---      ┆ ---        ┆ e         ┆   ┆ ---      ┆ ---      ┆ ---       ┆ ---       │\n",
       "│ str        ┆ str      ┆ f64        ┆ ---       ┆   ┆ f64      ┆ str      ┆ f64       ┆ f64       │\n",
       "│            ┆          ┆            ┆ str       ┆   ┆          ┆          ┆           ┆           │\n",
       "╞════════════╪══════════╪════════════╪═══════════╪═══╪══════════╪══════════╪═══════════╪═══════════╡\n",
       "│ count      ┆ 188340   ┆ 188340.0   ┆ 188340    ┆ … ┆ 188340.0 ┆ 188340   ┆ 188340.0  ┆ 188340.0  │\n",
       "│ null_count ┆ 0        ┆ 0.0        ┆ 0         ┆ … ┆ 0.0      ┆ 0        ┆ 0.0       ┆ 0.0       │\n",
       "│ mean       ┆ null     ┆ 183.0      ┆ null      ┆ … ┆ 0.131783 ┆ null     ┆ 68.205692 ┆ 42784.327 │\n",
       "│            ┆          ┆            ┆           ┆   ┆          ┆          ┆           ┆ 982       │\n",
       "│ std        ┆ null     ┆ 105.366308 ┆ null      ┆ … ┆ 0.338256 ┆ null     ┆ 30.467415 ┆ 18456.708 │\n",
       "│            ┆          ┆            ┆           ┆   ┆          ┆          ┆           ┆ 302       │\n",
       "│ min        ┆ T1000001 ┆ 1.0        ┆ S1        ┆ … ┆ 0.0      ┆ No       ┆ 0.0       ┆ 0.0       │\n",
       "│ 25%        ┆ null     ┆ 92.0       ┆ null      ┆ … ┆ 0.0      ┆ null     ┆ 48.0      ┆ 30426.0   │\n",
       "│ 50%        ┆ null     ┆ 183.0      ┆ null      ┆ … ┆ 0.0      ┆ null     ┆ 63.0      ┆ 39678.0   │\n",
       "│ 75%        ┆ null     ┆ 274.0      ┆ null      ┆ … ┆ 0.0      ┆ null     ┆ 82.0      ┆ 51909.0   │\n",
       "│ max        ┆ T1188340 ┆ 365.0      ┆ S4        ┆ … ┆ 1.0      ┆ Yes      ┆ 371.0     ┆ 247215.0  │\n",
       "└────────────┴──────────┴────────────┴───────────┴───┴──────────┴──────────┴───────────┴───────────┘"
      ]
     },
     "execution_count": 4,
     "metadata": {},
     "output_type": "execute_result"
    }
   ],
   "source": [
    "train.describe()"
   ]
  },
  {
   "cell_type": "code",
   "execution_count": 5,
   "metadata": {},
   "outputs": [
    {
     "data": {
      "text/html": [
       "<div><style>\n",
       ".dataframe > thead > tr,\n",
       ".dataframe > tbody > tr {\n",
       "  text-align: right;\n",
       "  white-space: pre-wrap;\n",
       "}\n",
       "</style>\n",
       "<small>shape: (4, 2)</small><table border=\"1\" class=\"dataframe\"><thead><tr><th>Store_Type</th><th>count</th></tr><tr><td>str</td><td>u32</td></tr></thead><tbody><tr><td>&quot;S2&quot;</td><td>28896</td></tr><tr><td>&quot;S1&quot;</td><td>88752</td></tr><tr><td>&quot;S3&quot;</td><td>24768</td></tr><tr><td>&quot;S4&quot;</td><td>45924</td></tr></tbody></table></div>"
      ],
      "text/plain": [
       "shape: (4, 2)\n",
       "┌────────────┬───────┐\n",
       "│ Store_Type ┆ count │\n",
       "│ ---        ┆ ---   │\n",
       "│ str        ┆ u32   │\n",
       "╞════════════╪═══════╡\n",
       "│ S2         ┆ 28896 │\n",
       "│ S1         ┆ 88752 │\n",
       "│ S3         ┆ 24768 │\n",
       "│ S4         ┆ 45924 │\n",
       "└────────────┴───────┘"
      ]
     },
     "execution_count": 5,
     "metadata": {},
     "output_type": "execute_result"
    }
   ],
   "source": [
    "train[\"Store_Type\"].value_counts()"
   ]
  },
  {
   "cell_type": "code",
   "execution_count": 6,
   "metadata": {},
   "outputs": [
    {
     "data": {
      "text/html": [
       "<div><style>\n",
       ".dataframe > thead > tr,\n",
       ".dataframe > tbody > tr {\n",
       "  text-align: right;\n",
       "  white-space: pre-wrap;\n",
       "}\n",
       "</style>\n",
       "<small>shape: (4, 2)</small><table border=\"1\" class=\"dataframe\"><thead><tr><th>Region_Code</th><th>count</th></tr><tr><td>str</td><td>u32</td></tr></thead><tbody><tr><td>&quot;R2&quot;</td><td>54180</td></tr><tr><td>&quot;R1&quot;</td><td>63984</td></tr><tr><td>&quot;R3&quot;</td><td>44376</td></tr><tr><td>&quot;R4&quot;</td><td>25800</td></tr></tbody></table></div>"
      ],
      "text/plain": [
       "shape: (4, 2)\n",
       "┌─────────────┬───────┐\n",
       "│ Region_Code ┆ count │\n",
       "│ ---         ┆ ---   │\n",
       "│ str         ┆ u32   │\n",
       "╞═════════════╪═══════╡\n",
       "│ R2          ┆ 54180 │\n",
       "│ R1          ┆ 63984 │\n",
       "│ R3          ┆ 44376 │\n",
       "│ R4          ┆ 25800 │\n",
       "└─────────────┴───────┘"
      ]
     },
     "execution_count": 6,
     "metadata": {},
     "output_type": "execute_result"
    }
   ],
   "source": [
    "train[\"Region_Code\"].value_counts()"
   ]
  },
  {
   "cell_type": "code",
   "execution_count": 7,
   "metadata": {},
   "outputs": [
    {
     "data": {
      "text/html": [
       "<div><style>\n",
       ".dataframe > thead > tr,\n",
       ".dataframe > tbody > tr {\n",
       "  text-align: right;\n",
       "  white-space: pre-wrap;\n",
       "}\n",
       "</style>\n",
       "<small>shape: (5, 2)</small><table border=\"1\" class=\"dataframe\"><thead><tr><th>Location_Type</th><th>count</th></tr><tr><td>str</td><td>u32</td></tr></thead><tbody><tr><td>&quot;L3&quot;</td><td>29928</td></tr><tr><td>&quot;L2&quot;</td><td>48504</td></tr><tr><td>&quot;L1&quot;</td><td>85140</td></tr><tr><td>&quot;L5&quot;</td><td>13932</td></tr><tr><td>&quot;L4&quot;</td><td>10836</td></tr></tbody></table></div>"
      ],
      "text/plain": [
       "shape: (5, 2)\n",
       "┌───────────────┬───────┐\n",
       "│ Location_Type ┆ count │\n",
       "│ ---           ┆ ---   │\n",
       "│ str           ┆ u32   │\n",
       "╞═══════════════╪═══════╡\n",
       "│ L3            ┆ 29928 │\n",
       "│ L2            ┆ 48504 │\n",
       "│ L1            ┆ 85140 │\n",
       "│ L5            ┆ 13932 │\n",
       "│ L4            ┆ 10836 │\n",
       "└───────────────┴───────┘"
      ]
     },
     "execution_count": 7,
     "metadata": {},
     "output_type": "execute_result"
    }
   ],
   "source": [
    "train[\"Location_Type\"].value_counts()"
   ]
  },
  {
   "cell_type": "code",
   "execution_count": 7,
   "metadata": {},
   "outputs": [
    {
     "data": {
      "text/html": [
       "<div><style>\n",
       ".dataframe > thead > tr,\n",
       ".dataframe > tbody > tr {\n",
       "  text-align: right;\n",
       "  white-space: pre-wrap;\n",
       "}\n",
       "</style>\n",
       "<small>shape: (365, 2)</small><table border=\"1\" class=\"dataframe\"><thead><tr><th>Store_id</th><th>count</th></tr><tr><td>i64</td><td>u32</td></tr></thead><tbody><tr><td>200</td><td>516</td></tr><tr><td>223</td><td>516</td></tr><tr><td>8</td><td>516</td></tr><tr><td>185</td><td>516</td></tr><tr><td>126</td><td>516</td></tr><tr><td>&hellip;</td><td>&hellip;</td></tr><tr><td>180</td><td>516</td></tr><tr><td>284</td><td>516</td></tr><tr><td>50</td><td>516</td></tr><tr><td>215</td><td>516</td></tr><tr><td>127</td><td>516</td></tr></tbody></table></div>"
      ],
      "text/plain": [
       "shape: (365, 2)\n",
       "┌──────────┬───────┐\n",
       "│ Store_id ┆ count │\n",
       "│ ---      ┆ ---   │\n",
       "│ i64      ┆ u32   │\n",
       "╞══════════╪═══════╡\n",
       "│ 200      ┆ 516   │\n",
       "│ 223      ┆ 516   │\n",
       "│ 8        ┆ 516   │\n",
       "│ 185      ┆ 516   │\n",
       "│ 126      ┆ 516   │\n",
       "│ …        ┆ …     │\n",
       "│ 180      ┆ 516   │\n",
       "│ 284      ┆ 516   │\n",
       "│ 50       ┆ 516   │\n",
       "│ 215      ┆ 516   │\n",
       "│ 127      ┆ 516   │\n",
       "└──────────┴───────┘"
      ]
     },
     "execution_count": 7,
     "metadata": {},
     "output_type": "execute_result"
    }
   ],
   "source": [
    "train[\"Store_id\"].value_counts()"
   ]
  },
  {
   "cell_type": "code",
   "execution_count": 8,
   "metadata": {},
   "outputs": [
    {
     "data": {
      "text/html": [
       "<div><style>\n",
       ".dataframe > thead > tr,\n",
       ".dataframe > tbody > tr {\n",
       "  text-align: right;\n",
       "  white-space: pre-wrap;\n",
       "}\n",
       "</style>\n",
       "<small>shape: (13_932, 10)</small><table border=\"1\" class=\"dataframe\"><thead><tr><th>ID</th><th>Store_id</th><th>Store_Type</th><th>Location_Type</th><th>Region_Code</th><th>Date</th><th>Holiday</th><th>Discount</th><th>Order</th><th>Sales</th></tr><tr><td>str</td><td>i64</td><td>str</td><td>str</td><td>str</td><td>str</td><td>i64</td><td>str</td><td>i64</td><td>f64</td></tr></thead><tbody><tr><td>&quot;T1000020&quot;</td><td>244</td><td>&quot;S2&quot;</td><td>&quot;L5&quot;</td><td>&quot;R4&quot;</td><td>&quot;2018-01-01&quot;</td><td>1</td><td>&quot;Yes&quot;</td><td>46</td><td>39193.2</td></tr><tr><td>&quot;T1000035&quot;</td><td>263</td><td>&quot;S1&quot;</td><td>&quot;L5&quot;</td><td>&quot;R1&quot;</td><td>&quot;2018-01-01&quot;</td><td>1</td><td>&quot;Yes&quot;</td><td>38</td><td>32964.75</td></tr><tr><td>&quot;T1000047&quot;</td><td>210</td><td>&quot;S1&quot;</td><td>&quot;L5&quot;</td><td>&quot;R1&quot;</td><td>&quot;2018-01-01&quot;</td><td>1</td><td>&quot;Yes&quot;</td><td>49</td><td>42340.38</td></tr><tr><td>&quot;T1000061&quot;</td><td>197</td><td>&quot;S2&quot;</td><td>&quot;L5&quot;</td><td>&quot;R1&quot;</td><td>&quot;2018-01-01&quot;</td><td>1</td><td>&quot;Yes&quot;</td><td>45</td><td>47752.2</td></tr><tr><td>&quot;T1000075&quot;</td><td>226</td><td>&quot;S2&quot;</td><td>&quot;L5&quot;</td><td>&quot;R4&quot;</td><td>&quot;2018-01-01&quot;</td><td>1</td><td>&quot;Yes&quot;</td><td>61</td><td>52985.88</td></tr><tr><td>&hellip;</td><td>&hellip;</td><td>&hellip;</td><td>&hellip;</td><td>&hellip;</td><td>&hellip;</td><td>&hellip;</td><td>&hellip;</td><td>&hellip;</td><td>&hellip;</td></tr><tr><td>&quot;T1188255&quot;</td><td>210</td><td>&quot;S1&quot;</td><td>&quot;L5&quot;</td><td>&quot;R1&quot;</td><td>&quot;2019-05-31&quot;</td><td>1</td><td>&quot;No&quot;</td><td>41</td><td>23978.4</td></tr><tr><td>&quot;T1188273&quot;</td><td>197</td><td>&quot;S2&quot;</td><td>&quot;L5&quot;</td><td>&quot;R1&quot;</td><td>&quot;2019-05-31&quot;</td><td>1</td><td>&quot;No&quot;</td><td>61</td><td>44061.78</td></tr><tr><td>&quot;T1188293&quot;</td><td>136</td><td>&quot;S2&quot;</td><td>&quot;L5&quot;</td><td>&quot;R4&quot;</td><td>&quot;2019-05-31&quot;</td><td>1</td><td>&quot;No&quot;</td><td>34</td><td>23115.54</td></tr><tr><td>&quot;T1188304&quot;</td><td>344</td><td>&quot;S1&quot;</td><td>&quot;L5&quot;</td><td>&quot;R1&quot;</td><td>&quot;2019-05-31&quot;</td><td>1</td><td>&quot;No&quot;</td><td>53</td><td>28439.43</td></tr><tr><td>&quot;T1188332&quot;</td><td>31</td><td>&quot;S1&quot;</td><td>&quot;L5&quot;</td><td>&quot;R2&quot;</td><td>&quot;2019-05-31&quot;</td><td>1</td><td>&quot;No&quot;</td><td>48</td><td>27760.08</td></tr></tbody></table></div>"
      ],
      "text/plain": [
       "shape: (13_932, 10)\n",
       "┌──────────┬──────────┬────────────┬───────────────┬───┬─────────┬──────────┬───────┬──────────┐\n",
       "│ ID       ┆ Store_id ┆ Store_Type ┆ Location_Type ┆ … ┆ Holiday ┆ Discount ┆ Order ┆ Sales    │\n",
       "│ ---      ┆ ---      ┆ ---        ┆ ---           ┆   ┆ ---     ┆ ---      ┆ ---   ┆ ---      │\n",
       "│ str      ┆ i64      ┆ str        ┆ str           ┆   ┆ i64     ┆ str      ┆ i64   ┆ f64      │\n",
       "╞══════════╪══════════╪════════════╪═══════════════╪═══╪═════════╪══════════╪═══════╪══════════╡\n",
       "│ T1000020 ┆ 244      ┆ S2         ┆ L5            ┆ … ┆ 1       ┆ Yes      ┆ 46    ┆ 39193.2  │\n",
       "│ T1000035 ┆ 263      ┆ S1         ┆ L5            ┆ … ┆ 1       ┆ Yes      ┆ 38    ┆ 32964.75 │\n",
       "│ T1000047 ┆ 210      ┆ S1         ┆ L5            ┆ … ┆ 1       ┆ Yes      ┆ 49    ┆ 42340.38 │\n",
       "│ T1000061 ┆ 197      ┆ S2         ┆ L5            ┆ … ┆ 1       ┆ Yes      ┆ 45    ┆ 47752.2  │\n",
       "│ T1000075 ┆ 226      ┆ S2         ┆ L5            ┆ … ┆ 1       ┆ Yes      ┆ 61    ┆ 52985.88 │\n",
       "│ …        ┆ …        ┆ …          ┆ …             ┆ … ┆ …       ┆ …        ┆ …     ┆ …        │\n",
       "│ T1188255 ┆ 210      ┆ S1         ┆ L5            ┆ … ┆ 1       ┆ No       ┆ 41    ┆ 23978.4  │\n",
       "│ T1188273 ┆ 197      ┆ S2         ┆ L5            ┆ … ┆ 1       ┆ No       ┆ 61    ┆ 44061.78 │\n",
       "│ T1188293 ┆ 136      ┆ S2         ┆ L5            ┆ … ┆ 1       ┆ No       ┆ 34    ┆ 23115.54 │\n",
       "│ T1188304 ┆ 344      ┆ S1         ┆ L5            ┆ … ┆ 1       ┆ No       ┆ 53    ┆ 28439.43 │\n",
       "│ T1188332 ┆ 31       ┆ S1         ┆ L5            ┆ … ┆ 1       ┆ No       ┆ 48    ┆ 27760.08 │\n",
       "└──────────┴──────────┴────────────┴───────────────┴───┴─────────┴──────────┴───────┴──────────┘"
      ]
     },
     "execution_count": 8,
     "metadata": {},
     "output_type": "execute_result"
    }
   ],
   "source": [
    "train.filter(pl.col(\"Location_Type\") == \"L5\")"
   ]
  },
  {
   "cell_type": "code",
   "execution_count": 9,
   "metadata": {},
   "outputs": [
    {
     "data": {
      "text/html": [
       "<div><style>\n",
       ".dataframe > thead > tr,\n",
       ".dataframe > tbody > tr {\n",
       "  text-align: right;\n",
       "  white-space: pre-wrap;\n",
       "}\n",
       "</style>\n",
       "<small>shape: (365, 10)</small><table border=\"1\" class=\"dataframe\"><thead><tr><th>ID</th><th>Store_id</th><th>Store_Type</th><th>Location_Type</th><th>Region_Code</th><th>Date</th><th>Holiday</th><th>Discount</th><th>Order</th><th>Sales</th></tr><tr><td>str</td><td>i64</td><td>str</td><td>str</td><td>str</td><td>str</td><td>i64</td><td>str</td><td>i64</td><td>f64</td></tr></thead><tbody><tr><td>&quot;T1000001&quot;</td><td>1</td><td>&quot;S1&quot;</td><td>&quot;L3&quot;</td><td>&quot;R1&quot;</td><td>&quot;2018-01-01&quot;</td><td>1</td><td>&quot;Yes&quot;</td><td>9</td><td>7011.84</td></tr><tr><td>&quot;T1000002&quot;</td><td>253</td><td>&quot;S4&quot;</td><td>&quot;L2&quot;</td><td>&quot;R1&quot;</td><td>&quot;2018-01-01&quot;</td><td>1</td><td>&quot;Yes&quot;</td><td>60</td><td>51789.12</td></tr><tr><td>&quot;T1000003&quot;</td><td>252</td><td>&quot;S3&quot;</td><td>&quot;L2&quot;</td><td>&quot;R1&quot;</td><td>&quot;2018-01-01&quot;</td><td>1</td><td>&quot;Yes&quot;</td><td>42</td><td>36868.2</td></tr><tr><td>&quot;T1000004&quot;</td><td>251</td><td>&quot;S2&quot;</td><td>&quot;L3&quot;</td><td>&quot;R1&quot;</td><td>&quot;2018-01-01&quot;</td><td>1</td><td>&quot;Yes&quot;</td><td>23</td><td>19715.16</td></tr><tr><td>&quot;T1000005&quot;</td><td>250</td><td>&quot;S2&quot;</td><td>&quot;L3&quot;</td><td>&quot;R4&quot;</td><td>&quot;2018-01-01&quot;</td><td>1</td><td>&quot;Yes&quot;</td><td>62</td><td>45614.52</td></tr><tr><td>&hellip;</td><td>&hellip;</td><td>&hellip;</td><td>&hellip;</td><td>&hellip;</td><td>&hellip;</td><td>&hellip;</td><td>&hellip;</td><td>&hellip;</td><td>&hellip;</td></tr><tr><td>&quot;T1000361&quot;</td><td>359</td><td>&quot;S2&quot;</td><td>&quot;L3&quot;</td><td>&quot;R2&quot;</td><td>&quot;2018-01-01&quot;</td><td>1</td><td>&quot;Yes&quot;</td><td>55</td><td>43514.28</td></tr><tr><td>&quot;T1000362&quot;</td><td>362</td><td>&quot;S1&quot;</td><td>&quot;L3&quot;</td><td>&quot;R3&quot;</td><td>&quot;2018-01-01&quot;</td><td>1</td><td>&quot;Yes&quot;</td><td>37</td><td>27770.4</td></tr><tr><td>&quot;T1000363&quot;</td><td>363</td><td>&quot;S1&quot;</td><td>&quot;L1&quot;</td><td>&quot;R2&quot;</td><td>&quot;2018-01-01&quot;</td><td>1</td><td>&quot;Yes&quot;</td><td>42</td><td>29676.24</td></tr><tr><td>&quot;T1000364&quot;</td><td>360</td><td>&quot;S2&quot;</td><td>&quot;L1&quot;</td><td>&quot;R1&quot;</td><td>&quot;2018-01-01&quot;</td><td>1</td><td>&quot;Yes&quot;</td><td>28</td><td>25680.27</td></tr><tr><td>&quot;T1000365&quot;</td><td>364</td><td>&quot;S2&quot;</td><td>&quot;L3&quot;</td><td>&quot;R2&quot;</td><td>&quot;2018-01-01&quot;</td><td>1</td><td>&quot;Yes&quot;</td><td>43</td><td>29538.0</td></tr></tbody></table></div>"
      ],
      "text/plain": [
       "shape: (365, 10)\n",
       "┌──────────┬──────────┬────────────┬───────────────┬───┬─────────┬──────────┬───────┬──────────┐\n",
       "│ ID       ┆ Store_id ┆ Store_Type ┆ Location_Type ┆ … ┆ Holiday ┆ Discount ┆ Order ┆ Sales    │\n",
       "│ ---      ┆ ---      ┆ ---        ┆ ---           ┆   ┆ ---     ┆ ---      ┆ ---   ┆ ---      │\n",
       "│ str      ┆ i64      ┆ str        ┆ str           ┆   ┆ i64     ┆ str      ┆ i64   ┆ f64      │\n",
       "╞══════════╪══════════╪════════════╪═══════════════╪═══╪═════════╪══════════╪═══════╪══════════╡\n",
       "│ T1000001 ┆ 1        ┆ S1         ┆ L3            ┆ … ┆ 1       ┆ Yes      ┆ 9     ┆ 7011.84  │\n",
       "│ T1000002 ┆ 253      ┆ S4         ┆ L2            ┆ … ┆ 1       ┆ Yes      ┆ 60    ┆ 51789.12 │\n",
       "│ T1000003 ┆ 252      ┆ S3         ┆ L2            ┆ … ┆ 1       ┆ Yes      ┆ 42    ┆ 36868.2  │\n",
       "│ T1000004 ┆ 251      ┆ S2         ┆ L3            ┆ … ┆ 1       ┆ Yes      ┆ 23    ┆ 19715.16 │\n",
       "│ T1000005 ┆ 250      ┆ S2         ┆ L3            ┆ … ┆ 1       ┆ Yes      ┆ 62    ┆ 45614.52 │\n",
       "│ …        ┆ …        ┆ …          ┆ …             ┆ … ┆ …       ┆ …        ┆ …     ┆ …        │\n",
       "│ T1000361 ┆ 359      ┆ S2         ┆ L3            ┆ … ┆ 1       ┆ Yes      ┆ 55    ┆ 43514.28 │\n",
       "│ T1000362 ┆ 362      ┆ S1         ┆ L3            ┆ … ┆ 1       ┆ Yes      ┆ 37    ┆ 27770.4  │\n",
       "│ T1000363 ┆ 363      ┆ S1         ┆ L1            ┆ … ┆ 1       ┆ Yes      ┆ 42    ┆ 29676.24 │\n",
       "│ T1000364 ┆ 360      ┆ S2         ┆ L1            ┆ … ┆ 1       ┆ Yes      ┆ 28    ┆ 25680.27 │\n",
       "│ T1000365 ┆ 364      ┆ S2         ┆ L3            ┆ … ┆ 1       ┆ Yes      ┆ 43    ┆ 29538.0  │\n",
       "└──────────┴──────────┴────────────┴───────────────┴───┴─────────┴──────────┴───────┴──────────┘"
      ]
     },
     "execution_count": 9,
     "metadata": {},
     "output_type": "execute_result"
    }
   ],
   "source": [
    "train.filter(pl.col(\"Date\") == \"2018-01-01\")"
   ]
  },
  {
   "cell_type": "code",
   "execution_count": 24,
   "metadata": {},
   "outputs": [
    {
     "data": {
      "text/plain": [
       "┌─────────────┬───────────────┬────────────┬───────┐\n",
       "│ Region_Code │ Location_Type │ Store_Type │  cnt  │\n",
       "│   varchar   │    varchar    │  varchar   │ int64 │\n",
       "├─────────────┼───────────────┼────────────┼───────┤\n",
       "│ R1          │ L1            │ S1         │  8772 │\n",
       "│ R1          │ L1            │ S2         │  1032 │\n",
       "│ R1          │ L1            │ S3         │  5676 │\n",
       "│ R1          │ L1            │ S4         │ 10836 │\n",
       "│ R1          │ L2            │ S1         │   516 │\n",
       "│ R1          │ L2            │ S3         │  2064 │\n",
       "│ R1          │ L2            │ S4         │ 17028 │\n",
       "│ R1          │ L3            │ S1         │  6708 │\n",
       "│ R1          │ L3            │ S2         │   516 │\n",
       "│ R1          │ L3            │ S3         │  1548 │\n",
       "│ ·           │ ·             │ ·          │    ·  │\n",
       "│ ·           │ ·             │ ·          │    ·  │\n",
       "│ ·           │ ·             │ ·          │    ·  │\n",
       "│ R4          │ L1            │ S2         │  1032 │\n",
       "│ R4          │ L1            │ S3         │   516 │\n",
       "│ R4          │ L1            │ S4         │   516 │\n",
       "│ R4          │ L2            │ S1         │  1548 │\n",
       "│ R4          │ L2            │ S3         │  2580 │\n",
       "│ R4          │ L2            │ S4         │  2064 │\n",
       "│ R4          │ L3            │ S1         │   516 │\n",
       "│ R4          │ L3            │ S2         │  2580 │\n",
       "│ R4          │ L4            │ S2         │  1032 │\n",
       "│ R4          │ L5            │ S2         │  2064 │\n",
       "├─────────────┴───────────────┴────────────┴───────┤\n",
       "│ 50 rows (20 shown)                     4 columns │\n",
       "└──────────────────────────────────────────────────┘"
      ]
     },
     "execution_count": 24,
     "metadata": {},
     "output_type": "execute_result"
    }
   ],
   "source": [
    "db.sql(\"\"\"\n",
    "    select  Region_Code,Location_Type, Store_Type, count(*) cnt from train group by Region_Code,Location_Type, Store_Type order by Region_Code,Location_Type, Store_Type\n",
    "\"\"\")"
   ]
  },
  {
   "cell_type": "code",
   "execution_count": 7,
   "metadata": {},
   "outputs": [
    {
     "data": {
      "text/plain": [
       "┌────────────┬─────────┐\n",
       "│    Date    │ Holiday │\n",
       "│  varchar   │  int64  │\n",
       "├────────────┼─────────┤\n",
       "│ 2018-02-24 │       0 │\n",
       "│ 2018-04-05 │       0 │\n",
       "│ 2018-06-08 │       0 │\n",
       "│ 2018-07-11 │       0 │\n",
       "│ 2018-08-10 │       0 │\n",
       "│ 2018-11-17 │       0 │\n",
       "│ 2018-12-19 │       0 │\n",
       "│ 2019-01-18 │       0 │\n",
       "│ 2019-02-21 │       0 │\n",
       "│ 2019-05-31 │       1 │\n",
       "│     ·      │       · │\n",
       "│     ·      │       · │\n",
       "│     ·      │       · │\n",
       "│ 2018-11-11 │       0 │\n",
       "│ 2019-02-17 │       0 │\n",
       "│ 2019-04-23 │       0 │\n",
       "│ 2018-05-16 │       0 │\n",
       "│ 2018-06-18 │       0 │\n",
       "│ 2018-02-21 │       0 │\n",
       "│ 2018-07-08 │       0 │\n",
       "│ 2018-06-28 │       0 │\n",
       "│ 2019-03-13 │       0 │\n",
       "│ 2018-09-06 │       0 │\n",
       "├────────────┴─────────┤\n",
       "│ 516 rows (20 shown)  │\n",
       "└──────────────────────┘"
      ]
     },
     "execution_count": 7,
     "metadata": {},
     "output_type": "execute_result"
    },
    {
     "data": {
      "text/plain": [
       "┌────────────┐\n",
       "│    Date    │\n",
       "│  varchar   │\n",
       "├────────────┤\n",
       "│ 2018-04-08 │\n",
       "│ 2018-06-12 │\n",
       "│ 2018-07-14 │\n",
       "│ 2018-08-14 │\n",
       "│ 2018-10-19 │\n",
       "│ 2018-10-20 │\n",
       "│ 2018-12-21 │\n",
       "│ 2018-12-22 │\n",
       "│ 2019-03-30 │\n",
       "│ 2019-04-30 │\n",
       "│     ·      │\n",
       "│     ·      │\n",
       "│     ·      │\n",
       "│ 2018-07-09 │\n",
       "│ 2018-09-11 │\n",
       "│ 2018-12-16 │\n",
       "│ 2018-02-22 │\n",
       "│ 2018-02-24 │\n",
       "│ 2018-11-06 │\n",
       "│ 2018-01-28 │\n",
       "│ 2018-11-30 │\n",
       "│ 2018-07-16 │\n",
       "│ 2018-04-04 │\n",
       "├────────────┤\n",
       "│  516 rows  │\n",
       "│ (20 shown) │\n",
       "└────────────┘"
      ]
     },
     "execution_count": 7,
     "metadata": {},
     "output_type": "execute_result"
    }
   ],
   "source": [
    "db.sql(\"\"\"\n",
    "select distinct Date, Holiday from train\n",
    " \"\"\")\n",
    "db.sql(\"\"\"\n",
    "select distinct Date from train\n",
    " \"\"\")"
   ]
  },
  {
   "cell_type": "code",
   "execution_count": null,
   "metadata": {},
   "outputs": [],
   "source": []
  }
 ],
 "metadata": {
  "kernelspec": {
   "display_name": "base",
   "language": "python",
   "name": "python3"
  },
  "language_info": {
   "codemirror_mode": {
    "name": "ipython",
    "version": 3
   },
   "file_extension": ".py",
   "mimetype": "text/x-python",
   "name": "python",
   "nbconvert_exporter": "python",
   "pygments_lexer": "ipython3",
   "version": "3.12.2"
  }
 },
 "nbformat": 4,
 "nbformat_minor": 2
}
