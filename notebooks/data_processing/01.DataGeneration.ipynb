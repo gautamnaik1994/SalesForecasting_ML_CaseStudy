{
 "cells": [
  {
   "cell_type": "code",
   "execution_count": 2,
   "metadata": {},
   "outputs": [],
   "source": [
    "import polars as pl\n",
    "import pandas as pd\n",
    "import duckdb as db"
   ]
  },
  {
   "cell_type": "code",
   "execution_count": 3,
   "metadata": {},
   "outputs": [
    {
     "data": {
      "text/html": [
       "<div><style>\n",
       ".dataframe > thead > tr,\n",
       ".dataframe > tbody > tr {\n",
       "  text-align: right;\n",
       "  white-space: pre-wrap;\n",
       "}\n",
       "</style>\n",
       "<small>shape: (5, 24)</small><table border=\"1\" class=\"dataframe\"><thead><tr><th>ID</th><th>Store_id</th><th>Store_Type</th><th>Location_Type</th><th>Region_Code</th><th>Date</th><th>Holiday</th><th>Discount</th><th>Orders</th><th>Sales</th><th>Day_of_Week_Name</th><th>Day</th><th>Day_of_Week</th><th>Month_Name</th><th>Month</th><th>Year</th><th>Quarter</th><th>Week</th><th>Week_of_Month</th><th>Is_Weekend</th><th>log_Sales</th><th>log_Orders</th><th>sqrt_Sales</th><th>sqrt_Orders</th></tr><tr><td>str</td><td>i64</td><td>str</td><td>str</td><td>str</td><td>datetime[ns]</td><td>i64</td><td>i64</td><td>i64</td><td>f64</td><td>str</td><td>i32</td><td>i32</td><td>str</td><td>i32</td><td>i32</td><td>i32</td><td>u32</td><td>i64</td><td>i64</td><td>f64</td><td>f64</td><td>f64</td><td>f64</td></tr></thead><tbody><tr><td>&quot;T1000001&quot;</td><td>1</td><td>&quot;S1&quot;</td><td>&quot;L3&quot;</td><td>&quot;R1&quot;</td><td>2018-01-01 00:00:00</td><td>1</td><td>1</td><td>9</td><td>7011.84</td><td>&quot;Monday&quot;</td><td>1</td><td>0</td><td>&quot;January&quot;</td><td>1</td><td>2018</td><td>1</td><td>1</td><td>1</td><td>0</td><td>8.855498</td><td>2.302585</td><td>83.73673</td><td>3.0</td></tr><tr><td>&quot;T1000002&quot;</td><td>253</td><td>&quot;S4&quot;</td><td>&quot;L2&quot;</td><td>&quot;R1&quot;</td><td>2018-01-01 00:00:00</td><td>1</td><td>1</td><td>60</td><td>51789.12</td><td>&quot;Monday&quot;</td><td>1</td><td>0</td><td>&quot;January&quot;</td><td>1</td><td>2018</td><td>1</td><td>1</td><td>1</td><td>0</td><td>10.854955</td><td>4.110874</td><td>227.57223</td><td>7.745967</td></tr><tr><td>&quot;T1000003&quot;</td><td>252</td><td>&quot;S3&quot;</td><td>&quot;L2&quot;</td><td>&quot;R1&quot;</td><td>2018-01-01 00:00:00</td><td>1</td><td>1</td><td>42</td><td>36868.2</td><td>&quot;Monday&quot;</td><td>1</td><td>0</td><td>&quot;January&quot;</td><td>1</td><td>2018</td><td>1</td><td>1</td><td>1</td><td>0</td><td>10.515132</td><td>3.7612</td><td>192.010937</td><td>6.480741</td></tr><tr><td>&quot;T1000004&quot;</td><td>251</td><td>&quot;S2&quot;</td><td>&quot;L3&quot;</td><td>&quot;R1&quot;</td><td>2018-01-01 00:00:00</td><td>1</td><td>1</td><td>23</td><td>19715.16</td><td>&quot;Monday&quot;</td><td>1</td><td>0</td><td>&quot;January&quot;</td><td>1</td><td>2018</td><td>1</td><td>1</td><td>1</td><td>0</td><td>9.889194</td><td>3.178054</td><td>140.410683</td><td>4.795832</td></tr><tr><td>&quot;T1000005&quot;</td><td>250</td><td>&quot;S2&quot;</td><td>&quot;L3&quot;</td><td>&quot;R4&quot;</td><td>2018-01-01 00:00:00</td><td>1</td><td>1</td><td>62</td><td>45614.52</td><td>&quot;Monday&quot;</td><td>1</td><td>0</td><td>&quot;January&quot;</td><td>1</td><td>2018</td><td>1</td><td>1</td><td>1</td><td>0</td><td>10.728003</td><td>4.143135</td><td>213.57556</td><td>7.874008</td></tr></tbody></table></div>"
      ],
      "text/plain": [
       "shape: (5, 24)\n",
       "┌──────────┬──────────┬────────────┬───────────┬───┬───────────┬───────────┬───────────┬───────────┐\n",
       "│ ID       ┆ Store_id ┆ Store_Type ┆ Location_ ┆ … ┆ log_Sales ┆ log_Order ┆ sqrt_Sale ┆ sqrt_Orde │\n",
       "│ ---      ┆ ---      ┆ ---        ┆ Type      ┆   ┆ ---       ┆ s         ┆ s         ┆ rs        │\n",
       "│ str      ┆ i64      ┆ str        ┆ ---       ┆   ┆ f64       ┆ ---       ┆ ---       ┆ ---       │\n",
       "│          ┆          ┆            ┆ str       ┆   ┆           ┆ f64       ┆ f64       ┆ f64       │\n",
       "╞══════════╪══════════╪════════════╪═══════════╪═══╪═══════════╪═══════════╪═══════════╪═══════════╡\n",
       "│ T1000001 ┆ 1        ┆ S1         ┆ L3        ┆ … ┆ 8.855498  ┆ 2.302585  ┆ 83.73673  ┆ 3.0       │\n",
       "│ T1000002 ┆ 253      ┆ S4         ┆ L2        ┆ … ┆ 10.854955 ┆ 4.110874  ┆ 227.57223 ┆ 7.745967  │\n",
       "│ T1000003 ┆ 252      ┆ S3         ┆ L2        ┆ … ┆ 10.515132 ┆ 3.7612    ┆ 192.01093 ┆ 6.480741  │\n",
       "│          ┆          ┆            ┆           ┆   ┆           ┆           ┆ 7         ┆           │\n",
       "│ T1000004 ┆ 251      ┆ S2         ┆ L3        ┆ … ┆ 9.889194  ┆ 3.178054  ┆ 140.41068 ┆ 4.795832  │\n",
       "│          ┆          ┆            ┆           ┆   ┆           ┆           ┆ 3         ┆           │\n",
       "│ T1000005 ┆ 250      ┆ S2         ┆ L3        ┆ … ┆ 10.728003 ┆ 4.143135  ┆ 213.57556 ┆ 7.874008  │\n",
       "└──────────┴──────────┴────────────┴───────────┴───┴───────────┴───────────┴───────────┴───────────┘"
      ]
     },
     "execution_count": 3,
     "metadata": {},
     "output_type": "execute_result"
    }
   ],
   "source": [
    "df=pl.read_parquet('../../data/processed/train_enhanced.parquet')\n",
    "df.head()"
   ]
  },
  {
   "cell_type": "code",
   "execution_count": 4,
   "metadata": {},
   "outputs": [
    {
     "data": {
      "text/plain": [
       "┌──────────┬─────────────┬───────────────┬────────────┐\n",
       "│ Store_id │ Region_Code │ Location_Type │ Store_Type │\n",
       "│  int64   │   varchar   │    varchar    │  varchar   │\n",
       "├──────────┼─────────────┼───────────────┼────────────┤\n",
       "│        1 │ R1          │ L3            │ S1         │\n",
       "│        2 │ R3          │ L1            │ S3         │\n",
       "│        3 │ R1          │ L2            │ S4         │\n",
       "│        4 │ R2          │ L1            │ S1         │\n",
       "│        5 │ R3          │ L1            │ S1         │\n",
       "│        6 │ R1          │ L1            │ S4         │\n",
       "│        7 │ R3          │ L1            │ S3         │\n",
       "│        8 │ R2          │ L2            │ S4         │\n",
       "│        9 │ R1          │ L1            │ S1         │\n",
       "│       10 │ R3          │ L2            │ S4         │\n",
       "│        · │ ·           │ ·             │ ·          │\n",
       "│        · │ ·           │ ·             │ ·          │\n",
       "│        · │ ·           │ ·             │ ·          │\n",
       "│      356 │ R1          │ L3            │ S3         │\n",
       "│      357 │ R1          │ L1            │ S4         │\n",
       "│      358 │ R1          │ L1            │ S3         │\n",
       "│      359 │ R2          │ L3            │ S2         │\n",
       "│      360 │ R1          │ L1            │ S2         │\n",
       "│      361 │ R1          │ L3            │ S1         │\n",
       "│      362 │ R3          │ L3            │ S1         │\n",
       "│      363 │ R2          │ L1            │ S1         │\n",
       "│      364 │ R2          │ L3            │ S2         │\n",
       "│      365 │ R2          │ L1            │ S2         │\n",
       "├──────────┴─────────────┴───────────────┴────────────┤\n",
       "│ 365 rows (20 shown)                       4 columns │\n",
       "└─────────────────────────────────────────────────────┘"
      ]
     },
     "execution_count": 4,
     "metadata": {},
     "output_type": "execute_result"
    }
   ],
   "source": [
    "db.sql(\"\"\"\n",
    "select distinct store_id\n",
    "       , Region_Code\n",
    "       , Location_Type\n",
    "       , Store_Type\n",
    "        from df\n",
    "       order by 1,2,3,4\n",
    "\"\"\")"
   ]
  },
  {
   "cell_type": "code",
   "execution_count": 9,
   "metadata": {},
   "outputs": [
    {
     "data": {
      "text/plain": [
       "┌─────────────┬─────────────┐\n",
       "│ Region_Code │ store_count │\n",
       "│   varchar   │    int64    │\n",
       "├─────────────┼─────────────┤\n",
       "│ R1          │         124 │\n",
       "│ R2          │         105 │\n",
       "│ R3          │          86 │\n",
       "│ R4          │          50 │\n",
       "└─────────────┴─────────────┘"
      ]
     },
     "execution_count": 9,
     "metadata": {},
     "output_type": "execute_result"
    }
   ],
   "source": [
    "db.sql(\"\"\"\n",
    "select distinct\n",
    "       Region_Code,\n",
    "       count(distinct store_id) as store_count,\n",
    "        from df\n",
    "         group by 1\n",
    "       \n",
    "\"\"\")"
   ]
  },
  {
   "cell_type": "code",
   "execution_count": 30,
   "metadata": {},
   "outputs": [
    {
     "data": {
      "text/html": [
       "<div>\n",
       "<style scoped>\n",
       "    .dataframe tbody tr th:only-of-type {\n",
       "        vertical-align: middle;\n",
       "    }\n",
       "\n",
       "    .dataframe tbody tr th {\n",
       "        vertical-align: top;\n",
       "    }\n",
       "\n",
       "    .dataframe thead th {\n",
       "        text-align: right;\n",
       "    }\n",
       "</style>\n",
       "<table border=\"1\" class=\"dataframe\">\n",
       "  <thead>\n",
       "    <tr style=\"text-align: right;\">\n",
       "      <th></th>\n",
       "      <th>Date</th>\n",
       "      <th>Holiday</th>\n",
       "    </tr>\n",
       "  </thead>\n",
       "  <tbody>\n",
       "    <tr>\n",
       "      <th>0</th>\n",
       "      <td>2018-12-27</td>\n",
       "      <td>0</td>\n",
       "    </tr>\n",
       "    <tr>\n",
       "      <th>1</th>\n",
       "      <td>2018-12-29</td>\n",
       "      <td>0</td>\n",
       "    </tr>\n",
       "    <tr>\n",
       "      <th>2</th>\n",
       "      <td>2019-01-13</td>\n",
       "      <td>1</td>\n",
       "    </tr>\n",
       "    <tr>\n",
       "      <th>3</th>\n",
       "      <td>2019-01-27</td>\n",
       "      <td>0</td>\n",
       "    </tr>\n",
       "    <tr>\n",
       "      <th>4</th>\n",
       "      <td>2019-02-01</td>\n",
       "      <td>0</td>\n",
       "    </tr>\n",
       "  </tbody>\n",
       "</table>\n",
       "</div>"
      ],
      "text/plain": [
       "        Date  Holiday\n",
       "0 2018-12-27        0\n",
       "1 2018-12-29        0\n",
       "2 2019-01-13        1\n",
       "3 2019-01-27        0\n",
       "4 2019-02-01        0"
      ]
     },
     "execution_count": 30,
     "metadata": {},
     "output_type": "execute_result"
    }
   ],
   "source": [
    "holidays = db.sql(\"\"\"\n",
    "    select distinct Date, Holiday from df\n",
    " \"\"\").to_df()\n",
    "holidays.head()"
   ]
  },
  {
   "cell_type": "code",
   "execution_count": 31,
   "metadata": {},
   "outputs": [],
   "source": [
    "holidays.to_csv('../../data/processed/holidays.csv', index=False)"
   ]
  },
  {
   "cell_type": "code",
   "execution_count": 32,
   "metadata": {},
   "outputs": [
    {
     "data": {
      "text/plain": [
       "┌────────────┬─────────────────────┬──────────┐\n",
       "│ Store_Type │        Date         │ Discount │\n",
       "│  varchar   │    timestamp_ns     │   int8   │\n",
       "├────────────┼─────────────────────┼──────────┤\n",
       "│ S1         │ 2018-01-01 00:00:00 │        1 │\n",
       "│ S2         │ 2018-01-01 00:00:00 │        1 │\n",
       "│ S3         │ 2018-01-01 00:00:00 │        1 │\n",
       "│ S4         │ 2018-01-01 00:00:00 │        1 │\n",
       "│ S4         │ 2018-01-02 00:00:00 │        1 │\n",
       "│ S2         │ 2018-01-02 00:00:00 │        1 │\n",
       "│ S3         │ 2018-01-02 00:00:00 │        1 │\n",
       "│ S1         │ 2018-01-02 00:00:00 │        1 │\n",
       "│ S2         │ 2018-01-03 00:00:00 │        1 │\n",
       "│ S3         │ 2018-01-03 00:00:00 │        1 │\n",
       "│ ·          │          ·          │        · │\n",
       "│ ·          │          ·          │        · │\n",
       "│ ·          │          ·          │        · │\n",
       "│ S4         │ 2019-05-30 00:00:00 │        1 │\n",
       "│ S3         │ 2019-05-30 00:00:00 │        1 │\n",
       "│ S4         │ 2019-05-31 00:00:00 │        1 │\n",
       "│ S1         │ 2019-05-31 00:00:00 │        1 │\n",
       "│ S1         │ 2019-05-31 00:00:00 │        0 │\n",
       "│ S4         │ 2019-05-31 00:00:00 │        0 │\n",
       "│ S2         │ 2019-05-31 00:00:00 │        0 │\n",
       "│ S3         │ 2019-05-31 00:00:00 │        0 │\n",
       "│ S3         │ 2019-05-31 00:00:00 │        1 │\n",
       "│ S2         │ 2019-05-31 00:00:00 │        1 │\n",
       "├────────────┴─────────────────────┴──────────┤\n",
       "│ 3740 rows (20 shown)              3 columns │\n",
       "└─────────────────────────────────────────────┘"
      ]
     },
     "execution_count": 32,
     "metadata": {},
     "output_type": "execute_result"
    }
   ],
   "source": [
    "db.sql(\"\"\"\n",
    "    select distinct Store_Type,Date, Discount from df order by  Date\n",
    "\"\"\")"
   ]
  },
  {
   "cell_type": "code",
   "execution_count": 33,
   "metadata": {},
   "outputs": [
    {
     "data": {
      "text/plain": [
       "┌──────────┬─────────────────────┬──────────┐\n",
       "│ Store_id │        Date         │ Discount │\n",
       "│  int64   │    timestamp_ns     │   int8   │\n",
       "├──────────┼─────────────────────┼──────────┤\n",
       "│        1 │ 2018-01-05 00:00:00 │        1 │\n",
       "│        1 │ 2018-01-06 00:00:00 │        0 │\n",
       "│        1 │ 2018-01-11 00:00:00 │        0 │\n",
       "│        1 │ 2018-01-17 00:00:00 │        1 │\n",
       "│        1 │ 2018-02-01 00:00:00 │        0 │\n",
       "│        1 │ 2018-02-08 00:00:00 │        1 │\n",
       "│        1 │ 2018-02-16 00:00:00 │        0 │\n",
       "│        1 │ 2018-02-21 00:00:00 │        1 │\n",
       "│        1 │ 2018-03-06 00:00:00 │        0 │\n",
       "│        1 │ 2018-03-15 00:00:00 │        1 │\n",
       "│        · │          ·          │        · │\n",
       "│        · │          ·          │        · │\n",
       "│        · │          ·          │        · │\n",
       "│        1 │ 2019-02-01 00:00:00 │        0 │\n",
       "│        1 │ 2019-02-19 00:00:00 │        1 │\n",
       "│        1 │ 2019-03-03 00:00:00 │        1 │\n",
       "│        1 │ 2019-03-19 00:00:00 │        0 │\n",
       "│        1 │ 2019-04-01 00:00:00 │        0 │\n",
       "│        1 │ 2019-04-03 00:00:00 │        0 │\n",
       "│        1 │ 2019-04-05 00:00:00 │        0 │\n",
       "│        1 │ 2019-04-18 00:00:00 │        1 │\n",
       "│        1 │ 2019-04-27 00:00:00 │        0 │\n",
       "│        1 │ 2019-05-20 00:00:00 │        0 │\n",
       "├──────────┴─────────────────────┴──────────┤\n",
       "│ 516 rows (20 shown)             3 columns │\n",
       "└───────────────────────────────────────────┘"
      ]
     },
     "execution_count": 33,
     "metadata": {},
     "output_type": "execute_result"
    }
   ],
   "source": [
    "db.sql(\"\"\"\n",
    "    select distinct Store_id,Date, Discount from df where Store_id = 1 \n",
    "\"\"\")"
   ]
  },
  {
   "cell_type": "code",
   "execution_count": null,
   "metadata": {},
   "outputs": [
    {
     "data": {
      "text/plain": [
       "┌──────────┬────────┬───────┬────────────────────┬────────────────────┬──────────────────────┐\n",
       "│ Store_id │  Week  │ Year  │    Weekly_Sales    │  Last_Week_Sales   │     Sales_Growth     │\n",
       "│  int64   │ uint32 │ int32 │       double       │       double       │        double        │\n",
       "├──────────┼────────┼───────┼────────────────────┼────────────────────┼──────────────────────┤\n",
       "│        1 │      1 │  2018 │ 294654.83999999997 │               NULL │                 NULL │\n",
       "│        1 │      2 │  2018 │           252701.4 │ 294654.83999999997 │ -0.14238164219532243 │\n",
       "│        1 │      3 │  2018 │           254220.0 │           252701.4 │ 0.006009464134349892 │\n",
       "│        1 │      4 │  2018 │          307899.63 │           254220.0 │   0.2111542364880812 │\n",
       "│        1 │      5 │  2018 │          203948.94 │          307899.63 │  -0.3376122602031058 │\n",
       "│        1 │      6 │  2018 │           224793.0 │          203948.94 │  0.10220234535173361 │\n",
       "│        1 │      7 │  2018 │           192775.5 │           224793.0 │ -0.14243103655362935 │\n",
       "│        1 │      8 │  2018 │           256548.0 │           192775.5 │   0.3308122660815301 │\n",
       "│        1 │      9 │  2018 │          202132.44 │           256548.0 │  -0.2121067402591328 │\n",
       "│        1 │     10 │  2018 │           224292.0 │          202132.44 │  0.10962891458689163 │\n",
       "│        · │      · │    ·  │               ·    │                 ·  │                   ·  │\n",
       "│        · │      · │    ·  │               ·    │                 ·  │                   ·  │\n",
       "│        · │      · │    ·  │               ·    │                 ·  │                   ·  │\n",
       "│      136 │      1 │  2018 │          254672.94 │               NULL │                 NULL │\n",
       "│      136 │      2 │  2018 │          193729.74 │          254672.94 │  -0.2392998643672155 │\n",
       "│      136 │      3 │  2018 │           175290.0 │          193729.74 │ -0.09518280466385796 │\n",
       "│      136 │      4 │  2018 │           168697.5 │           175290.0 │ -0.03760910491186035 │\n",
       "│      136 │      5 │  2018 │          157290.06 │           168697.5 │ -0.06762068198995244 │\n",
       "│      136 │      6 │  2018 │ 171787.08000000002 │          157290.06 │  0.09216742621879614 │\n",
       "│      136 │      7 │  2018 │ 165513.27000000002 │ 171787.08000000002 │ -0.03652084894859379 │\n",
       "│      136 │      8 │  2018 │          189456.57 │ 165513.27000000002 │   0.1446609084576722 │\n",
       "│      136 │      9 │  2018 │          168482.25 │          189456.57 │ -0.11070779968200631 │\n",
       "│      136 │     10 │  2018 │           171675.0 │          168482.25 │  0.01895006744033867 │\n",
       "├──────────┴────────┴───────┴────────────────────┴────────────────────┴──────────────────────┤\n",
       "│ ? rows (>9999 rows, 20 shown)                                                    6 columns │\n",
       "└────────────────────────────────────────────────────────────────────────────────────────────┘"
      ]
     },
     "execution_count": 47,
     "metadata": {},
     "output_type": "execute_result"
    }
   ],
   "source": [
    "db.sql(\"\"\"\n",
    "with weekly_sales_table as (\n",
    "    select Store_id,Week, Year, sum(Sales) as Weekly_Sales from df group by Store_id, Week, Year\n",
    ")\n",
    "select Store_id, Week, Year,\n",
    "       Weekly_Sales,\n",
    "       lag(Weekly_Sales, 1) over (partition by Store_id order by Year, Week) as Last_Week_Sales,\n",
    "        (Weekly_Sales - lag(Weekly_Sales, 1) over (partition by Store_id order by Year, Week))/lag(Weekly_Sales, 1) over (partition by Store_id order by Year, Week) as Sales_Growth\n",
    "       from weekly_sales_table\n",
    "       order by Store_id, Year, Week\n",
    "       \"\"\")"
   ]
  },
  {
   "cell_type": "code",
   "execution_count": null,
   "metadata": {},
   "outputs": [
    {
     "data": {
      "text/plain": [
       "┌──────────┬───────────┬───────┬────────────────────┬────────────────────┬──────────────────────┐\n",
       "│ Store_id │ Month_Num │ Year  │   Monthly_Sales    │  Last_Month_Sales  │     Sales_Growth     │\n",
       "│  int64   │   int32   │ int32 │       double       │       double       │        double        │\n",
       "├──────────┼───────────┼───────┼────────────────────┼────────────────────┼──────────────────────┤\n",
       "│        1 │         1 │  2018 │         1145607.81 │               NULL │                 NULL │\n",
       "│        1 │         2 │  2018 │           884656.5 │         1145607.81 │ -0.22778415765164872 │\n",
       "│        1 │         3 │  2018 │  991352.0999999999 │           884656.5 │  0.12060681179644286 │\n",
       "│        1 │         4 │  2018 │         1013459.13 │  991352.0999999999 │ 0.022299877107235813 │\n",
       "│        1 │         5 │  2018 │          1139541.9 │         1013459.13 │  0.12440834195257573 │\n",
       "│        1 │         6 │  2018 │         1061951.22 │          1139541.9 │ -0.06808936117223942 │\n",
       "│        1 │         7 │  2018 │          1225529.4 │         1061951.22 │  0.15403549326870206 │\n",
       "│        1 │         8 │  2018 │ 1014235.9799999999 │          1225529.4 │   -0.172409915257847 │\n",
       "│        1 │         9 │  2018 │          973627.32 │ 1014235.9799999999 │ -0.04003867029051752 │\n",
       "│        1 │        10 │  2018 │         1011547.74 │          973627.32 │  0.03894757184915481 │\n",
       "│        · │         · │    ·  │              ·     │              ·     │           ·          │\n",
       "│        · │         · │    ·  │              ·     │              ·     │           ·          │\n",
       "│        · │         · │    ·  │              ·     │              ·     │           ·          │\n",
       "│      365 │         8 │  2018 │  845334.0900000001 │         1024575.06 │ -0.17494176561354124 │\n",
       "│      365 │         9 │  2018 │          853007.55 │  845334.0900000001 │ 0.009077428783216305 │\n",
       "│      365 │        10 │  2018 │          806888.04 │          853007.55 │ -0.05406694231487166 │\n",
       "│      365 │        11 │  2018 │  745116.5700000001 │          806888.04 │ -0.07655519345657914 │\n",
       "│      365 │        12 │  2018 │         1075112.88 │  745116.5700000001 │  0.44287876996212794 │\n",
       "│      365 │         1 │  2019 │          1114668.3 │         1075112.88 │  0.03679187621675611 │\n",
       "│      365 │         2 │  2019 │  957320.4299999999 │          1114668.3 │ -0.14116115978179347 │\n",
       "│      365 │         3 │  2019 │          980200.71 │  957320.4299999999 │ 0.023900336066159194 │\n",
       "│      365 │         4 │  2019 │          942977.52 │          980200.71 │ -0.03797506941205944 │\n",
       "│      365 │         5 │  2019 │         1228721.04 │          942977.52 │  0.30302262136641395 │\n",
       "├──────────┴───────────┴───────┴────────────────────┴────────────────────┴──────────────────────┤\n",
       "│ 6205 rows (20 shown)                                                                6 columns │\n",
       "└───────────────────────────────────────────────────────────────────────────────────────────────┘"
      ]
     },
     "execution_count": 48,
     "metadata": {},
     "output_type": "execute_result"
    }
   ],
   "source": [
    "db.sql(\"\"\"\n",
    "with Monthly_sales_table as (\n",
    "    select Store_id,Month_Num, Year, sum(Sales) as Monthly_Sales from df group by Store_id, Month_Num, Year\n",
    ")\n",
    "select \n",
    "        Store_id, Month_Num, Year,\n",
    "        Monthly_Sales,\n",
    "        lag(Monthly_Sales, 1) over (partition by Store_id order by Year, Month_Num) as Last_Month_Sales,\n",
    "        (Monthly_Sales - lag(Monthly_Sales, 1) over (partition by Store_id order by Year, Month_Num))/lag(Monthly_Sales, 1) over (partition by Store_id order by Year, Month_Num) as Sales_Growth\n",
    "    from Monthly_sales_table\n",
    "        order by Store_id, Year, Month_Num\n",
    "       \"\"\")"
   ]
  },
  {
   "cell_type": "code",
   "execution_count": 8,
   "metadata": {},
   "outputs": [
    {
     "data": {
      "text/html": [
       "<div><style>\n",
       ".dataframe > thead > tr,\n",
       ".dataframe > tbody > tr {\n",
       "  text-align: right;\n",
       "  white-space: pre-wrap;\n",
       "}\n",
       "</style>\n",
       "<small>shape: (5, 9)</small><table border=\"1\" class=\"dataframe\"><thead><tr><th>Date</th><th>Store_Type</th><th>Total_Sales</th><th>Avg_Sales</th><th>Total_Orders</th><th>Avg_Orders</th><th>Num_Stores</th><th>Holiday</th><th>Total_Discounts</th></tr><tr><td>datetime[ns]</td><td>str</td><td>i32</td><td>i32</td><td>decimal[38,0]</td><td>i32</td><td>i64</td><td>i64</td><td>decimal[38,0]</td></tr></thead><tbody><tr><td>2018-01-01 00:00:00</td><td>&quot;S4&quot;</td><td>3728611</td><td>41895</td><td>4778</td><td>54</td><td>89</td><td>1</td><td>89</td></tr><tr><td>2018-01-01 00:00:00</td><td>&quot;S1&quot;</td><td>7292028</td><td>42396</td><td>9410</td><td>55</td><td>172</td><td>1</td><td>172</td></tr><tr><td>2018-01-01 00:00:00</td><td>&quot;S3&quot;</td><td>1944327</td><td>40507</td><td>2439</td><td>51</td><td>48</td><td>1</td><td>48</td></tr><tr><td>2018-01-01 00:00:00</td><td>&quot;S2&quot;</td><td>2380519</td><td>42509</td><td>3039</td><td>54</td><td>56</td><td>1</td><td>56</td></tr><tr><td>2018-01-02 00:00:00</td><td>&quot;S4&quot;</td><td>6515439</td><td>73207</td><td>8988</td><td>101</td><td>89</td><td>0</td><td>89</td></tr></tbody></table></div>"
      ],
      "text/plain": [
       "shape: (5, 9)\n",
       "┌────────────┬───────────┬───────────┬───────────┬───┬───────────┬───────────┬─────────┬───────────┐\n",
       "│ Date       ┆ Store_Typ ┆ Total_Sal ┆ Avg_Sales ┆ … ┆ Avg_Order ┆ Num_Store ┆ Holiday ┆ Total_Dis │\n",
       "│ ---        ┆ e         ┆ es        ┆ ---       ┆   ┆ s         ┆ s         ┆ ---     ┆ counts    │\n",
       "│ datetime[n ┆ ---       ┆ ---       ┆ i32       ┆   ┆ ---       ┆ ---       ┆ i64     ┆ ---       │\n",
       "│ s]         ┆ str       ┆ i32       ┆           ┆   ┆ i32       ┆ i64       ┆         ┆ decimal[3 │\n",
       "│            ┆           ┆           ┆           ┆   ┆           ┆           ┆         ┆ 8,0]      │\n",
       "╞════════════╪═══════════╪═══════════╪═══════════╪═══╪═══════════╪═══════════╪═════════╪═══════════╡\n",
       "│ 2018-01-01 ┆ S4        ┆ 3728611   ┆ 41895     ┆ … ┆ 54        ┆ 89        ┆ 1       ┆ 89        │\n",
       "│ 00:00:00   ┆           ┆           ┆           ┆   ┆           ┆           ┆         ┆           │\n",
       "│ 2018-01-01 ┆ S1        ┆ 7292028   ┆ 42396     ┆ … ┆ 55        ┆ 172       ┆ 1       ┆ 172       │\n",
       "│ 00:00:00   ┆           ┆           ┆           ┆   ┆           ┆           ┆         ┆           │\n",
       "│ 2018-01-01 ┆ S3        ┆ 1944327   ┆ 40507     ┆ … ┆ 51        ┆ 48        ┆ 1       ┆ 48        │\n",
       "│ 00:00:00   ┆           ┆           ┆           ┆   ┆           ┆           ┆         ┆           │\n",
       "│ 2018-01-01 ┆ S2        ┆ 2380519   ┆ 42509     ┆ … ┆ 54        ┆ 56        ┆ 1       ┆ 56        │\n",
       "│ 00:00:00   ┆           ┆           ┆           ┆   ┆           ┆           ┆         ┆           │\n",
       "│ 2018-01-02 ┆ S4        ┆ 6515439   ┆ 73207     ┆ … ┆ 101       ┆ 89        ┆ 0       ┆ 89        │\n",
       "│ 00:00:00   ┆           ┆           ┆           ┆   ┆           ┆           ┆         ┆           │\n",
       "└────────────┴───────────┴───────────┴───────────┴───┴───────────┴───────────┴─────────┴───────────┘"
      ]
     },
     "execution_count": 8,
     "metadata": {},
     "output_type": "execute_result"
    }
   ],
   "source": [
    "train_store_type_agg =db.sql(\"\"\"\n",
    "select \n",
    "        Date\n",
    "        , Store_Type\n",
    "        , cast(sum(Sales) as int) as Total_Sales\n",
    "        , cast(avg(Sales) as int) as Avg_Sales\n",
    "        , sum(\"Order\") as Total_Orders\n",
    "        , cast(avg(\"Order\") as int) as Avg_Orders\n",
    "        , count(distinct Store_id) as Num_Stores\n",
    "        , max(Holiday) as Holiday\n",
    "        , sum(Discount) as Total_Discounts\n",
    "    from df\n",
    "        group by \n",
    "       Date\n",
    "       , Store_Type\n",
    "    order by Date\n",
    "\"\"\").pl()\n",
    "train_store_type_agg.head()"
   ]
  },
  {
   "cell_type": "code",
   "execution_count": 9,
   "metadata": {},
   "outputs": [],
   "source": [
    "train_store_type_agg.write_parquet('../../data/processed/train_store_type_agg.parquet')"
   ]
  },
  {
   "cell_type": "code",
   "execution_count": 10,
   "metadata": {},
   "outputs": [
    {
     "data": {
      "text/html": [
       "<div><style>\n",
       ".dataframe > thead > tr,\n",
       ".dataframe > tbody > tr {\n",
       "  text-align: right;\n",
       "  white-space: pre-wrap;\n",
       "}\n",
       "</style>\n",
       "<small>shape: (5, 9)</small><table border=\"1\" class=\"dataframe\"><thead><tr><th>Date</th><th>Region_Code</th><th>Total_Sales</th><th>Avg_Sales</th><th>Total_Orders</th><th>Avg_Orders</th><th>Num_Stores</th><th>Holiday</th><th>Total_Discounts</th></tr><tr><td>datetime[ns]</td><td>str</td><td>i32</td><td>i32</td><td>decimal[38,0]</td><td>i32</td><td>i64</td><td>i64</td><td>decimal[38,0]</td></tr></thead><tbody><tr><td>2018-01-01 00:00:00</td><td>&quot;R4&quot;</td><td>2286812</td><td>45736</td><td>2914</td><td>58</td><td>50</td><td>1</td><td>50</td></tr><tr><td>2018-01-01 00:00:00</td><td>&quot;R2&quot;</td><td>4436859</td><td>42256</td><td>5644</td><td>54</td><td>105</td><td>1</td><td>105</td></tr><tr><td>2018-01-01 00:00:00</td><td>&quot;R3&quot;</td><td>3527439</td><td>41017</td><td>4599</td><td>53</td><td>86</td><td>1</td><td>86</td></tr><tr><td>2018-01-01 00:00:00</td><td>&quot;R1&quot;</td><td>5094374</td><td>41084</td><td>6509</td><td>52</td><td>124</td><td>1</td><td>124</td></tr><tr><td>2018-01-02 00:00:00</td><td>&quot;R4&quot;</td><td>2545119</td><td>50902</td><td>3057</td><td>61</td><td>50</td><td>0</td><td>50</td></tr></tbody></table></div>"
      ],
      "text/plain": [
       "shape: (5, 9)\n",
       "┌────────────┬───────────┬───────────┬───────────┬───┬───────────┬───────────┬─────────┬───────────┐\n",
       "│ Date       ┆ Region_Co ┆ Total_Sal ┆ Avg_Sales ┆ … ┆ Avg_Order ┆ Num_Store ┆ Holiday ┆ Total_Dis │\n",
       "│ ---        ┆ de        ┆ es        ┆ ---       ┆   ┆ s         ┆ s         ┆ ---     ┆ counts    │\n",
       "│ datetime[n ┆ ---       ┆ ---       ┆ i32       ┆   ┆ ---       ┆ ---       ┆ i64     ┆ ---       │\n",
       "│ s]         ┆ str       ┆ i32       ┆           ┆   ┆ i32       ┆ i64       ┆         ┆ decimal[3 │\n",
       "│            ┆           ┆           ┆           ┆   ┆           ┆           ┆         ┆ 8,0]      │\n",
       "╞════════════╪═══════════╪═══════════╪═══════════╪═══╪═══════════╪═══════════╪═════════╪═══════════╡\n",
       "│ 2018-01-01 ┆ R4        ┆ 2286812   ┆ 45736     ┆ … ┆ 58        ┆ 50        ┆ 1       ┆ 50        │\n",
       "│ 00:00:00   ┆           ┆           ┆           ┆   ┆           ┆           ┆         ┆           │\n",
       "│ 2018-01-01 ┆ R2        ┆ 4436859   ┆ 42256     ┆ … ┆ 54        ┆ 105       ┆ 1       ┆ 105       │\n",
       "│ 00:00:00   ┆           ┆           ┆           ┆   ┆           ┆           ┆         ┆           │\n",
       "│ 2018-01-01 ┆ R3        ┆ 3527439   ┆ 41017     ┆ … ┆ 53        ┆ 86        ┆ 1       ┆ 86        │\n",
       "│ 00:00:00   ┆           ┆           ┆           ┆   ┆           ┆           ┆         ┆           │\n",
       "│ 2018-01-01 ┆ R1        ┆ 5094374   ┆ 41084     ┆ … ┆ 52        ┆ 124       ┆ 1       ┆ 124       │\n",
       "│ 00:00:00   ┆           ┆           ┆           ┆   ┆           ┆           ┆         ┆           │\n",
       "│ 2018-01-02 ┆ R4        ┆ 2545119   ┆ 50902     ┆ … ┆ 61        ┆ 50        ┆ 0       ┆ 50        │\n",
       "│ 00:00:00   ┆           ┆           ┆           ┆   ┆           ┆           ┆         ┆           │\n",
       "└────────────┴───────────┴───────────┴───────────┴───┴───────────┴───────────┴─────────┴───────────┘"
      ]
     },
     "execution_count": 10,
     "metadata": {},
     "output_type": "execute_result"
    }
   ],
   "source": [
    "train_region_code_agg =db.sql(\"\"\"\n",
    "    select \n",
    "        Date\n",
    "        , Region_Code\n",
    "        , cast(sum(Sales) as int) as Total_Sales\n",
    "        , cast(avg(Sales) as int) as Avg_Sales\n",
    "        , sum(\"Order\") as Total_Orders\n",
    "        , cast(avg(\"Order\") as int) as Avg_Orders\n",
    "        , count(distinct Store_id) as Num_Stores\n",
    "        , max(Holiday) as Holiday\n",
    "        , sum(Discount) as Total_Discounts\n",
    "    from df\n",
    "        group by \n",
    "       Date\n",
    "       , Region_Code\n",
    "    order by Date\n",
    "\"\"\").pl()\n",
    "train_region_code_agg.head()"
   ]
  },
  {
   "cell_type": "code",
   "execution_count": 11,
   "metadata": {},
   "outputs": [],
   "source": [
    "train_region_code_agg.write_parquet('../../data/processed/train_region_code_agg.parquet')"
   ]
  },
  {
   "cell_type": "code",
   "execution_count": 12,
   "metadata": {},
   "outputs": [
    {
     "data": {
      "text/html": [
       "<div><style>\n",
       ".dataframe > thead > tr,\n",
       ".dataframe > tbody > tr {\n",
       "  text-align: right;\n",
       "  white-space: pre-wrap;\n",
       "}\n",
       "</style>\n",
       "<small>shape: (5, 9)</small><table border=\"1\" class=\"dataframe\"><thead><tr><th>Date</th><th>Location_Type</th><th>Total_Sales</th><th>Avg_Sales</th><th>Total_Orders</th><th>Avg_Orders</th><th>Num_Stores</th><th>Holiday</th><th>Total_Discounts</th></tr><tr><td>datetime[ns]</td><td>str</td><td>i32</td><td>i32</td><td>decimal[38,0]</td><td>i32</td><td>i64</td><td>i64</td><td>decimal[38,0]</td></tr></thead><tbody><tr><td>2018-01-01 00:00:00</td><td>&quot;L3&quot;</td><td>2460245</td><td>42418</td><td>3175</td><td>55</td><td>58</td><td>1</td><td>58</td></tr><tr><td>2018-01-01 00:00:00</td><td>&quot;L2&quot;</td><td>4117915</td><td>43808</td><td>5295</td><td>56</td><td>94</td><td>1</td><td>94</td></tr><tr><td>2018-01-01 00:00:00</td><td>&quot;L1&quot;</td><td>6754876</td><td>40939</td><td>8662</td><td>52</td><td>165</td><td>1</td><td>165</td></tr><tr><td>2018-01-01 00:00:00</td><td>&quot;L4&quot;</td><td>841889</td><td>40090</td><td>1090</td><td>52</td><td>21</td><td>1</td><td>21</td></tr><tr><td>2018-01-01 00:00:00</td><td>&quot;L5&quot;</td><td>1170560</td><td>43354</td><td>1444</td><td>53</td><td>27</td><td>1</td><td>27</td></tr></tbody></table></div>"
      ],
      "text/plain": [
       "shape: (5, 9)\n",
       "┌────────────┬───────────┬───────────┬───────────┬───┬───────────┬───────────┬─────────┬───────────┐\n",
       "│ Date       ┆ Location_ ┆ Total_Sal ┆ Avg_Sales ┆ … ┆ Avg_Order ┆ Num_Store ┆ Holiday ┆ Total_Dis │\n",
       "│ ---        ┆ Type      ┆ es        ┆ ---       ┆   ┆ s         ┆ s         ┆ ---     ┆ counts    │\n",
       "│ datetime[n ┆ ---       ┆ ---       ┆ i32       ┆   ┆ ---       ┆ ---       ┆ i64     ┆ ---       │\n",
       "│ s]         ┆ str       ┆ i32       ┆           ┆   ┆ i32       ┆ i64       ┆         ┆ decimal[3 │\n",
       "│            ┆           ┆           ┆           ┆   ┆           ┆           ┆         ┆ 8,0]      │\n",
       "╞════════════╪═══════════╪═══════════╪═══════════╪═══╪═══════════╪═══════════╪═════════╪═══════════╡\n",
       "│ 2018-01-01 ┆ L3        ┆ 2460245   ┆ 42418     ┆ … ┆ 55        ┆ 58        ┆ 1       ┆ 58        │\n",
       "│ 00:00:00   ┆           ┆           ┆           ┆   ┆           ┆           ┆         ┆           │\n",
       "│ 2018-01-01 ┆ L2        ┆ 4117915   ┆ 43808     ┆ … ┆ 56        ┆ 94        ┆ 1       ┆ 94        │\n",
       "│ 00:00:00   ┆           ┆           ┆           ┆   ┆           ┆           ┆         ┆           │\n",
       "│ 2018-01-01 ┆ L1        ┆ 6754876   ┆ 40939     ┆ … ┆ 52        ┆ 165       ┆ 1       ┆ 165       │\n",
       "│ 00:00:00   ┆           ┆           ┆           ┆   ┆           ┆           ┆         ┆           │\n",
       "│ 2018-01-01 ┆ L4        ┆ 841889    ┆ 40090     ┆ … ┆ 52        ┆ 21        ┆ 1       ┆ 21        │\n",
       "│ 00:00:00   ┆           ┆           ┆           ┆   ┆           ┆           ┆         ┆           │\n",
       "│ 2018-01-01 ┆ L5        ┆ 1170560   ┆ 43354     ┆ … ┆ 53        ┆ 27        ┆ 1       ┆ 27        │\n",
       "│ 00:00:00   ┆           ┆           ┆           ┆   ┆           ┆           ┆         ┆           │\n",
       "└────────────┴───────────┴───────────┴───────────┴───┴───────────┴───────────┴─────────┴───────────┘"
      ]
     },
     "execution_count": 12,
     "metadata": {},
     "output_type": "execute_result"
    }
   ],
   "source": [
    "train_location_type_agg =db.sql(\"\"\"\n",
    "    select \n",
    "        Date\n",
    "        , Location_Type\n",
    "        , cast(sum(Sales) as int) as Total_Sales\n",
    "        , cast(avg(Sales) as int) as Avg_Sales\n",
    "        , sum(\"Order\") as Total_Orders\n",
    "        , cast(avg(\"Order\") as int) as Avg_Orders\n",
    "        , count(distinct Store_id) as Num_Stores\n",
    "        , max(Holiday) as Holiday\n",
    "        , sum(Discount) as Total_Discounts\n",
    "    from df\n",
    "        group by \n",
    "       Date\n",
    "       , Location_Type\n",
    "    order by Date\n",
    "\"\"\").pl()\n",
    "train_location_type_agg.head()"
   ]
  },
  {
   "cell_type": "code",
   "execution_count": 13,
   "metadata": {},
   "outputs": [],
   "source": [
    "train_location_type_agg.write_parquet('../../data/processed/train_location_type_agg.parquet')"
   ]
  },
  {
   "cell_type": "code",
   "execution_count": 14,
   "metadata": {},
   "outputs": [
    {
     "data": {
      "text/html": [
       "<div><style>\n",
       ".dataframe > thead > tr,\n",
       ".dataframe > tbody > tr {\n",
       "  text-align: right;\n",
       "  white-space: pre-wrap;\n",
       "}\n",
       "</style>\n",
       "<small>shape: (2_580, 9)</small><table border=\"1\" class=\"dataframe\"><thead><tr><th>Date</th><th>Location_Type</th><th>Total_Sales</th><th>Avg_Sales</th><th>Total_Orders</th><th>Avg_Orders</th><th>Num_Stores</th><th>Holiday</th><th>Total_Discounts</th></tr><tr><td>datetime[ns]</td><td>str</td><td>i32</td><td>i32</td><td>decimal[38,0]</td><td>i32</td><td>i64</td><td>i64</td><td>decimal[38,0]</td></tr></thead><tbody><tr><td>2018-01-01 00:00:00</td><td>&quot;L3&quot;</td><td>2460245</td><td>42418</td><td>3175</td><td>55</td><td>58</td><td>1</td><td>58</td></tr><tr><td>2018-01-01 00:00:00</td><td>&quot;L2&quot;</td><td>4117915</td><td>43808</td><td>5295</td><td>56</td><td>94</td><td>1</td><td>94</td></tr><tr><td>2018-01-01 00:00:00</td><td>&quot;L1&quot;</td><td>6754876</td><td>40939</td><td>8662</td><td>52</td><td>165</td><td>1</td><td>165</td></tr><tr><td>2018-01-01 00:00:00</td><td>&quot;L4&quot;</td><td>841889</td><td>40090</td><td>1090</td><td>52</td><td>21</td><td>1</td><td>21</td></tr><tr><td>2018-01-01 00:00:00</td><td>&quot;L5&quot;</td><td>1170560</td><td>43354</td><td>1444</td><td>53</td><td>27</td><td>1</td><td>27</td></tr><tr><td>&hellip;</td><td>&hellip;</td><td>&hellip;</td><td>&hellip;</td><td>&hellip;</td><td>&hellip;</td><td>&hellip;</td><td>&hellip;</td><td>&hellip;</td></tr><tr><td>2019-05-31 00:00:00</td><td>&quot;L5&quot;</td><td>642061</td><td>23780</td><td>1009</td><td>37</td><td>27</td><td>1</td><td>1</td></tr><tr><td>2019-05-31 00:00:00</td><td>&quot;L3&quot;</td><td>1877677</td><td>32374</td><td>2883</td><td>50</td><td>58</td><td>1</td><td>5</td></tr><tr><td>2019-05-31 00:00:00</td><td>&quot;L1&quot;</td><td>6926767</td><td>41980</td><td>10286</td><td>62</td><td>165</td><td>1</td><td>13</td></tr><tr><td>2019-05-31 00:00:00</td><td>&quot;L2&quot;</td><td>5582392</td><td>59387</td><td>8524</td><td>91</td><td>94</td><td>1</td><td>20</td></tr><tr><td>2019-05-31 00:00:00</td><td>&quot;L4&quot;</td><td>572928</td><td>27282</td><td>900</td><td>43</td><td>21</td><td>1</td><td>0</td></tr></tbody></table></div>"
      ],
      "text/plain": [
       "shape: (2_580, 9)\n",
       "┌────────────┬───────────┬───────────┬───────────┬───┬───────────┬───────────┬─────────┬───────────┐\n",
       "│ Date       ┆ Location_ ┆ Total_Sal ┆ Avg_Sales ┆ … ┆ Avg_Order ┆ Num_Store ┆ Holiday ┆ Total_Dis │\n",
       "│ ---        ┆ Type      ┆ es        ┆ ---       ┆   ┆ s         ┆ s         ┆ ---     ┆ counts    │\n",
       "│ datetime[n ┆ ---       ┆ ---       ┆ i32       ┆   ┆ ---       ┆ ---       ┆ i64     ┆ ---       │\n",
       "│ s]         ┆ str       ┆ i32       ┆           ┆   ┆ i32       ┆ i64       ┆         ┆ decimal[3 │\n",
       "│            ┆           ┆           ┆           ┆   ┆           ┆           ┆         ┆ 8,0]      │\n",
       "╞════════════╪═══════════╪═══════════╪═══════════╪═══╪═══════════╪═══════════╪═════════╪═══════════╡\n",
       "│ 2018-01-01 ┆ L3        ┆ 2460245   ┆ 42418     ┆ … ┆ 55        ┆ 58        ┆ 1       ┆ 58        │\n",
       "│ 00:00:00   ┆           ┆           ┆           ┆   ┆           ┆           ┆         ┆           │\n",
       "│ 2018-01-01 ┆ L2        ┆ 4117915   ┆ 43808     ┆ … ┆ 56        ┆ 94        ┆ 1       ┆ 94        │\n",
       "│ 00:00:00   ┆           ┆           ┆           ┆   ┆           ┆           ┆         ┆           │\n",
       "│ 2018-01-01 ┆ L1        ┆ 6754876   ┆ 40939     ┆ … ┆ 52        ┆ 165       ┆ 1       ┆ 165       │\n",
       "│ 00:00:00   ┆           ┆           ┆           ┆   ┆           ┆           ┆         ┆           │\n",
       "│ 2018-01-01 ┆ L4        ┆ 841889    ┆ 40090     ┆ … ┆ 52        ┆ 21        ┆ 1       ┆ 21        │\n",
       "│ 00:00:00   ┆           ┆           ┆           ┆   ┆           ┆           ┆         ┆           │\n",
       "│ 2018-01-01 ┆ L5        ┆ 1170560   ┆ 43354     ┆ … ┆ 53        ┆ 27        ┆ 1       ┆ 27        │\n",
       "│ 00:00:00   ┆           ┆           ┆           ┆   ┆           ┆           ┆         ┆           │\n",
       "│ …          ┆ …         ┆ …         ┆ …         ┆ … ┆ …         ┆ …         ┆ …       ┆ …         │\n",
       "│ 2019-05-31 ┆ L5        ┆ 642061    ┆ 23780     ┆ … ┆ 37        ┆ 27        ┆ 1       ┆ 1         │\n",
       "│ 00:00:00   ┆           ┆           ┆           ┆   ┆           ┆           ┆         ┆           │\n",
       "│ 2019-05-31 ┆ L3        ┆ 1877677   ┆ 32374     ┆ … ┆ 50        ┆ 58        ┆ 1       ┆ 5         │\n",
       "│ 00:00:00   ┆           ┆           ┆           ┆   ┆           ┆           ┆         ┆           │\n",
       "│ 2019-05-31 ┆ L1        ┆ 6926767   ┆ 41980     ┆ … ┆ 62        ┆ 165       ┆ 1       ┆ 13        │\n",
       "│ 00:00:00   ┆           ┆           ┆           ┆   ┆           ┆           ┆         ┆           │\n",
       "│ 2019-05-31 ┆ L2        ┆ 5582392   ┆ 59387     ┆ … ┆ 91        ┆ 94        ┆ 1       ┆ 20        │\n",
       "│ 00:00:00   ┆           ┆           ┆           ┆   ┆           ┆           ┆         ┆           │\n",
       "│ 2019-05-31 ┆ L4        ┆ 572928    ┆ 27282     ┆ … ┆ 43        ┆ 21        ┆ 1       ┆ 0         │\n",
       "│ 00:00:00   ┆           ┆           ┆           ┆   ┆           ┆           ┆         ┆           │\n",
       "└────────────┴───────────┴───────────┴───────────┴───┴───────────┴───────────┴─────────┴───────────┘"
      ]
     },
     "execution_count": 14,
     "metadata": {},
     "output_type": "execute_result"
    }
   ],
   "source": [
    "train_agg =db.sql(\"\"\"\n",
    "    select \n",
    "        Date\n",
    "        , cast(sum(Sales) as int) as Total_Sales\n",
    "        , cast(avg(Sales) as int) as Avg_Sales\n",
    "        , sum(\"Order\") as Total_Orders\n",
    "        , cast(avg(\"Order\") as int) as Avg_Orders\n",
    "        , count(distinct Store_id) as Num_Stores\n",
    "        , max(Holiday) as Holiday\n",
    "        , sum(Discount) as Total_Discounts\n",
    "    from df\n",
    "        group by \n",
    "       Date\n",
    "    order by Date\n",
    "\"\"\").pl()\n",
    "train_location_type_agg"
   ]
  },
  {
   "cell_type": "code",
   "execution_count": null,
   "metadata": {},
   "outputs": [],
   "source": []
  },
  {
   "cell_type": "code",
   "execution_count": null,
   "metadata": {},
   "outputs": [],
   "source": []
  }
 ],
 "metadata": {
  "kernelspec": {
   "display_name": "base",
   "language": "python",
   "name": "python3"
  },
  "language_info": {
   "codemirror_mode": {
    "name": "ipython",
    "version": 3
   },
   "file_extension": ".py",
   "mimetype": "text/x-python",
   "name": "python",
   "nbconvert_exporter": "python",
   "pygments_lexer": "ipython3",
   "version": "3.12.2"
  }
 },
 "nbformat": 4,
 "nbformat_minor": 2
}
